{
 "cells": [
  {
   "cell_type": "code",
   "execution_count": 6,
   "id": "e1cd28d0",
   "metadata": {},
   "outputs": [],
   "source": [
    "from selenium import webdriver\n",
    "import re\n",
    "from bs4 import BeautifulSoup\n",
    "import pandas as pd\n",
    "import time\n",
    "import numpy as np"
   ]
  },
  {
   "cell_type": "markdown",
   "id": "120c4be6",
   "metadata": {},
   "source": [
    "# Scrape the Data\n",
    "Obtain all of the unplayed, but scheduled, matchups for the European Champions League water polo tournaments this season (2022-2023) from flashscore.com"
   ]
  },
  {
   "cell_type": "code",
   "execution_count": 2,
   "id": "cbd2e922",
   "metadata": {},
   "outputs": [],
   "source": [
    "url = 'https://www.flashscore.com/water-polo/europe/champions-league/fixtures'\n",
    "\n",
    "driver = webdriver.Firefox()\n",
    "driver.get(url)\n",
    "\n",
    "sauce = driver.page_source\n",
    "driver.quit()\n",
    "soup = BeautifulSoup(sauce,'lxml')"
   ]
  },
  {
   "cell_type": "code",
   "execution_count": 3,
   "id": "497ad723",
   "metadata": {},
   "outputs": [],
   "source": [
    "# function to determine if the tag is part of the data targeted for extraction\n",
    "def target_tags(c):\n",
    "    target_class = [\"event__header\",\n",
    "                    \"event__round\",\n",
    "                    \"event__match\"]\n",
    "    return c in target_class\n",
    "\n",
    "games = soup.find_all(class_=target_tags)\n",
    "\n",
    "df = pd.DataFrame()\n",
    "l = []\n",
    "obj = {}\n",
    "event_round = None\n",
    "event_name = None\n",
    "season = soup.find(\"div\", {\"class\": \"heading__info\"}).text\n",
    "\n",
    "\n",
    "for a in range(0, len(games)):\n",
    "\n",
    "    if games[a]['class'][0] == 'event__round':\n",
    "        event_round = games[a].text\n",
    "    if games[a]['class'][0] == 'event__header':\n",
    "        event_name = games[a].find(\"span\", {\"class\": \"event__title--name\"}).text\n",
    "        \n",
    "    obj[\"event_name\"] = event_name\n",
    "    obj[\"event_round\"] = event_round\n",
    "    \n",
    "    try:\n",
    "        obj[\"match_time\"] = games[a].find(\"div\", {\"class\": \"event__time\"}).text\n",
    "    except: \n",
    "        obj[\"match_time\"] = None\n",
    "    try:\n",
    "        obj[\"home_team\"] = games[a].find(\"div\", {\"class\": re.compile(\"^(event__participant event__participant--home)\")}).text\n",
    "    except:\n",
    "        obj[\"home_team\"] = None\n",
    "    try:\n",
    "        obj[\"away_team\"] = games[a].find(\"div\", {\"class\": re.compile(\"^(event__participant event__participant--away)\")}).text\n",
    "    except:\n",
    "        obj[\"away_team\"] = None\n",
    "    \n",
    "        \n",
    "    if pd.notna(obj[\"home_team\"]):\n",
    "        l.append(obj)\n",
    "    obj = {}\n",
    "    \n",
    "    \n",
    "# Loop through and append list to data frame.\n",
    "for i in l:\n",
    "    event_name = i[\"event_name\"]\n",
    "    event_round = i[\"event_round\"]\n",
    "    match_time = i[\"match_time\"]\n",
    "    home_team = i[\"home_team\"]\n",
    "    away_team = i[\"away_team\"]\n",
    "    \n",
    "    df = df.append(\n",
    "        {\"event_name\": event_name,\n",
    "         \"event_round\": event_round,\n",
    "         \"match_time\": match_time,\n",
    "         \"home_team\": home_team,\n",
    "         \"away_team\": away_team,\n",
    "         \"season\": season\n",
    "        }, ignore_index=True\n",
    "    )"
   ]
  },
  {
   "cell_type": "code",
   "execution_count": 4,
   "id": "2fa53262",
   "metadata": {},
   "outputs": [],
   "source": [
    "# separate the match month, day, and time\n",
    "df[['day', 'month', 'start_time']] = df.pop('match_time').str.split('.', expand=True)\n",
    "df[['day', 'month']] = df[['day', 'month']].astype('int64')"
   ]
  },
  {
   "cell_type": "code",
   "execution_count": 7,
   "id": "bd3cf681",
   "metadata": {},
   "outputs": [],
   "source": [
    "# identify the year of the match\n",
    "# note: July (month 7) always separates the beginning and end of successive seasons in the water polo Champions League\n",
    "df[['a', 'b']] = df['season'].str.split('/', expand=True)\n",
    "df['year'] = np.where(df['month'] > 7, df['a'], df['b'])\n",
    "df.drop(['a', 'b'], axis=1, inplace=True)"
   ]
  },
  {
   "cell_type": "code",
   "execution_count": 8,
   "id": "e3a0714c",
   "metadata": {},
   "outputs": [],
   "source": [
    "# combine the day, month, year into a datetime variable\n",
    "df['date'] = pd.to_datetime(df[['day', 'month', 'year']])"
   ]
  },
  {
   "cell_type": "code",
   "execution_count": 10,
   "id": "2e6db628",
   "metadata": {},
   "outputs": [],
   "source": [
    "# save the data by exporting to a cvs file\n",
    "df.to_csv('champions_league_scheduledGames.csv', index=False)"
   ]
  }
 ],
 "metadata": {
  "kernelspec": {
   "display_name": "Python 3",
   "language": "python",
   "name": "python3"
  },
  "language_info": {
   "codemirror_mode": {
    "name": "ipython",
    "version": 3
   },
   "file_extension": ".py",
   "mimetype": "text/x-python",
   "name": "python",
   "nbconvert_exporter": "python",
   "pygments_lexer": "ipython3",
   "version": "3.8.8"
  }
 },
 "nbformat": 4,
 "nbformat_minor": 5
}
