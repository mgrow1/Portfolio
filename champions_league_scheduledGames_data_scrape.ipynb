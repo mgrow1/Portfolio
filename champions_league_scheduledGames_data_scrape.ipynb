{
 "cells": [
  {
   "cell_type": "code",
   "execution_count": 1,
   "id": "acc4e8a2",
   "metadata": {},
   "outputs": [],
   "source": [
    "from selenium import webdriver\n",
    "import re\n",
    "from bs4 import BeautifulSoup\n",
    "import pandas as pd\n",
    "import time"
   ]
  },
  {
   "cell_type": "markdown",
   "id": "d26785ec",
   "metadata": {},
   "source": [
    "# Scrape the Data\n",
    "Obtain all of the unplayed, but scheduled, matchups for the European Champions League water polo tournaments this season (2022-2023) from flashscore.com"
   ]
  },
  {
   "cell_type": "code",
   "execution_count": 17,
   "id": "80d7fa04",
   "metadata": {},
   "outputs": [],
   "source": [
    "url = 'https://www.flashscore.com/water-polo/europe/champions-league/'\n",
    "\n",
    "# xpath for the \"Show more matches\" link in the 'Scheduled' matches section\n",
    "show_more_xpath = '/html/body/div[4]/div[1]/div/div/main/div[4]/div[2]/div[1]/section[3]/div[2]/div/a'\n",
    "\n",
    "driver = webdriver.Firefox()\n",
    "driver.get(url)\n",
    "    \n",
    "# many (but not all) pages have matches that are hidden by a \"Show more matches\" header\n",
    "# this section clicks the header, if it is there\n",
    "try:\n",
    "    element = driver.find_element(\"xpath\", show_more_xpath)\n",
    "    driver.execute_script(\"arguments[0].scrollIntoView();\", element)\n",
    "    element.click()\n",
    "    time.sleep(10) # waits for 10 seconds for the page to load/update from the click()\n",
    "except:\n",
    "    pass\n",
    "\n",
    "#sauce = driver.page_source\n",
    "#driver.quit()\n",
    "#soup = BeautifulSoup(sauce,'lxml')"
   ]
  },
  {
   "cell_type": "code",
   "execution_count": 15,
   "id": "1e890e1e",
   "metadata": {},
   "outputs": [
    {
     "data": {
      "text/plain": [
       "<div class=\"leagues--static event--leagues summary-fixtures\"><div class=\"sportName water-polo\"><div class=\"event__header event__header--noExpand\"><div class=\"mlPopUpContainer\"><span class=\"eventSubscriber eventSubscriber__star\"><svg class=\"star-ico eventStar\"><title></title><use xlink:href=\"/res/_fs/build/action.803f661.svg#star\"></use></svg></span></div><div class=\"icon--flag event__title fl_6\" title=\"Europe\"><div class=\"event__titleBox\"><span class=\"event__title--type\">EUROPE</span><span class=\"event__title--name\" title=\"Champions League\">Champions League</span></div></div><a class=\"event__info active\" href=\"#\">Standings</a></div><div class=\"event__round event__round--static\">Round 10</div><div class=\"event__match event__match--static event__match--scheduled event__match--twoLine\" id=\"g_22_OG6xUhEA\" title=\"Click for match detail!\"><span class=\"event__check--hidden\"></span><div class=\"event__time\">21.03. 11:00</div><div class=\"event__participant event__participant--home\">Ferencvarosi</div><img class=\"event__logo event__logo--home\" loading=\"lazy\" src=\"/res/image/data/ADVEcnjT-SYy0e3Z5.png\"/><div class=\"event__participant event__participant--away\">Spandau</div><img class=\"event__logo event__logo--away\" loading=\"lazy\" src=\"/res/image/data/27F7ntVH-6e3Pj76h.png\"/><div class=\"event__score event__score--home\">-</div><div class=\"event__score event__score--away\">-</div></div><div class=\"event__match event__match--static event__match--scheduled event__match--twoLine\" id=\"g_22_8EwmrzKB\" title=\"Click for match detail!\"><span class=\"event__check--hidden\"></span><div class=\"event__time\">21.03. 11:30</div><div class=\"event__participant event__participant--home\">OSC Ujbuda</div><img class=\"event__logo event__logo--home\" loading=\"lazy\" src=\"/res/image/data/tSJIVx8k-Q5Z1zmmp.png\"/><div class=\"event__participant event__participant--away\">Brescia</div><img class=\"event__logo event__logo--away\" loading=\"lazy\" src=\"/res/image/data/UcXYpzQq-l6NCCFyk.png\"/><div class=\"event__score event__score--home\">-</div><div class=\"event__score event__score--away\">-</div></div><div class=\"event__match event__match--static event__match--scheduled event__match--twoLine\" id=\"g_22_r5JABpbq\" title=\"Click for match detail!\"><span class=\"event__check--hidden\"></span><div class=\"event__time\">21.03. 11:30</div><div class=\"event__participant event__participant--home\">Sabadell</div><img class=\"event__logo event__logo--home\" loading=\"lazy\" src=\"/res/image/data/nPw8wZme-8Uzgvxn5.png\"/><div class=\"event__participant event__participant--away\">Jug Dubrovnik</div><img class=\"event__logo event__logo--away\" loading=\"lazy\" src=\"/res/image/data/jPL93Q5k-hfxBpHRS.png\"/><div class=\"event__score event__score--home\">-</div><div class=\"event__score event__score--away\">-</div></div><div class=\"event__match event__match--static event__match--scheduled event__match--twoLine\" id=\"g_22_275tTCTG\" title=\"Click for match detail!\"><span class=\"event__check--hidden\"></span><div class=\"event__time\">21.03. 11:45</div><div class=\"event__participant event__participant--home\">Novi Beograd</div><img class=\"event__logo event__logo--home\" loading=\"lazy\" src=\"/res/image/data/foirHG86-xMCTGEe6.png\"/><div class=\"event__participant event__participant--away\">Marseille</div><img class=\"event__logo event__logo--away\" loading=\"lazy\" src=\"/res/image/data/I9U9VEiT-vBQL0lZN.png\"/><div class=\"event__score event__score--home\">-</div><div class=\"event__score event__score--away\">-</div></div><div class=\"event__match event__match--static event__match--scheduled event__match--twoLine\" id=\"g_22_nclvjwW5\" title=\"Click for match detail!\"><span class=\"event__check--hidden\"></span><div class=\"event__time\">22.03. 11:00</div><div class=\"event__participant event__participant--home\">Dinamo Tbilisi</div><img class=\"event__logo event__logo--home\" loading=\"lazy\" src=\"/res/image/data/MkzU4djC-MHGMyRea.png\"/><div class=\"event__participant event__participant--away\">Radnicki</div><img class=\"event__logo event__logo--away\" loading=\"lazy\" src=\"/res/image/data/rVYzHxB6-xC7VQNtg.png\"/><div class=\"event__score event__score--home\">-</div><div class=\"event__score event__score--away\">-</div></div><div class=\"event__match event__match--static event__match--scheduled event__match--twoLine\" id=\"g_22_n5xisfZH\" title=\"Click for match detail!\"><span class=\"event__check--hidden\"></span><div class=\"event__time\">22.03. 11:00</div><div class=\"event__participant event__participant--home\">Jadran ST</div><img class=\"event__logo event__logo--home\" loading=\"lazy\" src=\"/res/image/data/SrU3nnAN-f3Oxtyzp.png\"/><div class=\"event__participant event__participant--away\">Vouliagmeni</div><img class=\"event__logo event__logo--away\" loading=\"lazy\" src=\"/res/image/data/pAG6jYmC-2F0sUZgj.png\"/><div class=\"event__score event__score--home\">-</div><div class=\"event__score event__score--away\">-</div></div><div class=\"event__match event__match--static event__match--scheduled event__match--twoLine\" id=\"g_22_EqjWia1g\" title=\"Click for match detail!\"><span class=\"event__check--hidden\"></span><div class=\"event__time\">22.03. 12:00</div><div class=\"event__participant event__participant--home\">Barceloneta</div><img class=\"event__logo event__logo--home\" loading=\"lazy\" src=\"/res/image/data/COLbQ1S0-nyKI61qO.png\"/><div class=\"event__participant event__participant--away\">Olympiacos</div><img class=\"event__logo event__logo--away\" loading=\"lazy\" src=\"/res/image/data/QqfcyNQq-nw3f77m3.png\"/><div class=\"event__score event__score--home\">-</div><div class=\"event__score event__score--away\">-</div></div><div class=\"event__match event__match--static event__match--scheduled event__match--last event__match--twoLine\" id=\"g_22_hzkziJGa\" title=\"Click for match detail!\"><span class=\"event__check--hidden\"></span><div class=\"event__time\">22.03. 13:30</div><div class=\"event__participant event__participant--home\">Pro Recco</div><img class=\"event__logo event__logo--home\" loading=\"lazy\" src=\"/res/image/data/pYXmxBU0-2Tayl5jB.png\"/><div class=\"event__participant event__participant--away\">Hannover</div><img class=\"event__logo event__logo--away\" loading=\"lazy\" src=\"/res/image/data/QgM14rRq-6e3Pj76h.png\"/><div class=\"event__score event__score--home\">-</div><div class=\"event__score event__score--away\">-</div></div><div class=\"event__round event__round--static\">Round 11</div><div class=\"event__match event__match--static event__match--scheduled event__match--twoLine\" id=\"g_22_jVMI9OSe\" title=\"Click for match detail!\"><span class=\"event__check--hidden\"></span><div class=\"event__time\">04.04. 09:00</div><div class=\"event__participant event__participant--home\">Jug Dubrovnik</div><img class=\"event__logo event__logo--home\" loading=\"lazy\" src=\"/res/image/data/jPL93Q5k-hfxBpHRS.png\"/><div class=\"event__participant event__participant--away\">Ferencvarosi</div><img class=\"event__logo event__logo--away\" loading=\"lazy\" src=\"/res/image/data/ADVEcnjT-SYy0e3Z5.png\"/><div class=\"event__score event__score--home\">-</div><div class=\"event__score event__score--away\">-</div></div><div class=\"event__match event__match--static event__match--scheduled event__match--twoLine\" id=\"g_22_UTRetElO\" title=\"Click for match detail!\"><span class=\"event__check--hidden\"></span><div class=\"event__time\">04.04. 09:30</div><div class=\"event__participant event__participant--home\">Sabadell</div><img class=\"event__logo event__logo--home\" loading=\"lazy\" src=\"/res/image/data/nPw8wZme-8Uzgvxn5.png\"/><div class=\"event__participant event__participant--away\">OSC Ujbuda</div><img class=\"event__logo event__logo--away\" loading=\"lazy\" src=\"/res/image/data/tSJIVx8k-Q5Z1zmmp.png\"/><div class=\"event__score event__score--home\">-</div><div class=\"event__score event__score--away\">-</div></div><div class=\"event__match event__match--static event__match--scheduled event__match--twoLine\" id=\"g_22_d8NEA4Dk\" title=\"Click for match detail!\"><span class=\"event__check--hidden\"></span><div class=\"event__time\">04.04. 09:30</div><div class=\"event__participant event__participant--home\">Spandau</div><img class=\"event__logo event__logo--home\" loading=\"lazy\" src=\"/res/image/data/27F7ntVH-6e3Pj76h.png\"/><div class=\"event__participant event__participant--away\">Marseille</div><img class=\"event__logo event__logo--away\" loading=\"lazy\" src=\"/res/image/data/I9U9VEiT-vBQL0lZN.png\"/><div class=\"event__score event__score--home\">-</div><div class=\"event__score event__score--away\">-</div></div><div class=\"event__match event__match--static event__match--scheduled event__match--last event__match--twoLine\" id=\"g_22_SEpauY3U\" title=\"Click for match detail!\"><span class=\"event__check--hidden\"></span><div class=\"event__time\">04.04. 10:30</div><div class=\"event__participant event__participant--home\">Brescia</div><img class=\"event__logo event__logo--home\" loading=\"lazy\" src=\"/res/image/data/UcXYpzQq-l6NCCFyk.png\"/><div class=\"event__participant event__participant--away\">Novi Beograd</div><img class=\"event__logo event__logo--away\" loading=\"lazy\" src=\"/res/image/data/foirHG86-xMCTGEe6.png\"/><div class=\"event__score event__score--home\">-</div><div class=\"event__score event__score--away\">-</div></div><a class=\"event__more event__more--static\" href=\"/water-polo/europe/champions-league/fixtures/\">Show more matches</a></div></div>"
      ]
     },
     "execution_count": 15,
     "metadata": {},
     "output_type": "execute_result"
    }
   ],
   "source": [
    "games = soup.find(class_=\"tabs__ear\", text=\"Scheduled\").parent.parent.next_sibling  # this locates the 'Scheduled' section and then moves to the table, using the structure of the html on the webpage\n",
    "games"
   ]
  }
 ],
 "metadata": {
  "kernelspec": {
   "display_name": "Python 3",
   "language": "python",
   "name": "python3"
  },
  "language_info": {
   "codemirror_mode": {
    "name": "ipython",
    "version": 3
   },
   "file_extension": ".py",
   "mimetype": "text/x-python",
   "name": "python",
   "nbconvert_exporter": "python",
   "pygments_lexer": "ipython3",
   "version": "3.8.8"
  }
 },
 "nbformat": 4,
 "nbformat_minor": 5
}
