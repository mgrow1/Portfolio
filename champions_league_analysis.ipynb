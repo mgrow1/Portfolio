{
 "cells": [
  {
   "cell_type": "code",
   "execution_count": 1,
   "id": "a842061a",
   "metadata": {},
   "outputs": [],
   "source": [
    "import pandas as pd\n",
    "import numpy as np\n",
    "import matplotlib.pyplot as plt\n",
    "import seaborn as sns\n",
    "from sklearn.metrics import log_loss\n",
    "from hyperopt import hp, fmin, tpe"
   ]
  },
  {
   "cell_type": "code",
   "execution_count": 2,
   "id": "3a9ebaa9",
   "metadata": {
    "scrolled": false
   },
   "outputs": [],
   "source": [
    "# import the data\n",
    "game_results = pd.read_csv(\"champions_league_rawData.csv\")"
   ]
  },
  {
   "cell_type": "markdown",
   "id": "08109765",
   "metadata": {},
   "source": [
    "# Tidy the Data"
   ]
  },
  {
   "cell_type": "markdown",
   "id": "40b76282",
   "metadata": {},
   "source": [
    "### Identify the date of each match"
   ]
  },
  {
   "cell_type": "code",
   "execution_count": 3,
   "id": "ac1a5833",
   "metadata": {
    "scrolled": true
   },
   "outputs": [],
   "source": [
    "# separate the match month, day, and time\n",
    "game_results[['day', 'month', 'start_time']] = game_results.pop('match_time').str.split('.', expand=True)\n",
    "game_results[['day', 'month']] = game_results[['day', 'month']].astype('int64')"
   ]
  },
  {
   "cell_type": "code",
   "execution_count": 4,
   "id": "35e15791",
   "metadata": {
    "scrolled": false
   },
   "outputs": [],
   "source": [
    "# identify the year of the match\n",
    "# note: July (month 7) always separates the beginning and end of successive seasons in the water polo Champions League\n",
    "game_results[['a', 'b']] = game_results['season'].str.split('/', expand=True)\n",
    "game_results['year'] = np.where(game_results['month'] > 7, game_results['a'], game_results['b'])\n",
    "game_results.drop(['a', 'b'], axis=1, inplace=True)"
   ]
  },
  {
   "cell_type": "code",
   "execution_count": 5,
   "id": "7b838275",
   "metadata": {
    "scrolled": false
   },
   "outputs": [],
   "source": [
    "# combine the day, month, year into a datetime variable\n",
    "game_results['date'] = pd.to_datetime(game_results[['day', 'month', 'year']])"
   ]
  },
  {
   "cell_type": "markdown",
   "id": "0b4d5eea",
   "metadata": {},
   "source": [
    "### Remove the qualification matches from the data set"
   ]
  },
  {
   "cell_type": "code",
   "execution_count": null,
   "id": "4af5f328",
   "metadata": {
    "scrolled": true
   },
   "outputs": [],
   "source": [
    "from collections import Counter\n",
    "#Counter(df.event_name)"
   ]
  },
  {
   "cell_type": "code",
   "execution_count": 6,
   "id": "2ab77c1f",
   "metadata": {},
   "outputs": [],
   "source": [
    "# remove the qualifying round matches\n",
    "game_results = game_results[~game_results['event_name'].str.contains('Qualification')]"
   ]
  },
  {
   "cell_type": "code",
   "execution_count": null,
   "id": "a081600f",
   "metadata": {},
   "outputs": [],
   "source": [
    "#df.groupby(['event_name', 'event_round'], dropna=False).size()"
   ]
  },
  {
   "cell_type": "code",
   "execution_count": 7,
   "id": "921da09c",
   "metadata": {},
   "outputs": [],
   "source": [
    "# list of 'event_round' values for which a draw is not a possible result\n",
    "no_draws_round = ['Final', '5th place', '7th place', \n",
    "                  'Semi-finals', '3rd place', 'Quarter-finals']"
   ]
  },
  {
   "cell_type": "code",
   "execution_count": 8,
   "id": "1707409c",
   "metadata": {},
   "outputs": [],
   "source": [
    "# record whether a draw is a possible result for each match\n",
    "game_results['draw_possible'] = np.where(game_results['event_round'].isin(no_draws_round), 0, 1)"
   ]
  },
  {
   "cell_type": "markdown",
   "id": "027c0c01",
   "metadata": {},
   "source": [
    "# Calculate Elo Ratings"
   ]
  },
  {
   "cell_type": "markdown",
   "id": "dedfceb2",
   "metadata": {},
   "source": [
    "Some of the code in this section is adapted from https://github.com/danielguerreros/InternationalELo/blob/main/calculate_elo.ipynb and https://betfair-datascientists.github.io/modelling/soccerEloTutorialR/"
   ]
  },
  {
   "cell_type": "code",
   "execution_count": 9,
   "id": "d39e42a3",
   "metadata": {},
   "outputs": [],
   "source": [
    "# set elo parameter values\n",
    "elo_start = 1500\n",
    "elo_width = 400\n",
    "val_seasons = ['2021/2022', '2022/2023'] #data to use as validation when tuning k"
   ]
  },
  {
   "cell_type": "code",
   "execution_count": 10,
   "id": "4a78f518",
   "metadata": {},
   "outputs": [],
   "source": [
    "# remove columns not needed to compute elo\n",
    "df_elo = game_results.drop(['event_name',\n",
    "                            'event_round', \n",
    "                            'day', \n",
    "                            'month', \n",
    "                            'start_time', \n",
    "                            'year'], axis=1)\n",
    "\n",
    "# sort matches chronologically since elo is a form of time series analysis\n",
    "df_elo.sort_values(by=['season', 'date'], inplace=True)\n",
    "\n",
    "# include indicators for the game outcomes (win, loss, or draw) in the data set\n",
    "outcomes = [df_elo['home_score'] > df_elo['away_score'],\n",
    "            df_elo['home_score'] < df_elo['away_score'],\n",
    "            df_elo['home_score'] == df_elo['away_score']]\n",
    "df_elo['actual_home'] = np.select(outcomes, [1,0,0])\n",
    "df_elo['actual_away'] = np.select(outcomes, [0,1,0])\n",
    "df_elo['actual_draw'] = np.select(outcomes, [0,0,1])"
   ]
  },
  {
   "cell_type": "code",
   "execution_count": 11,
   "id": "e3a9c56a",
   "metadata": {},
   "outputs": [],
   "source": [
    "# function to calculate the expected result from teams' current elo ratings\n",
    "def expected_result(home_elo, away_elo):\n",
    "    diff = home_elo - away_elo\n",
    "    exp_res = 1/(1+10**(-diff/elo_width))\n",
    "    return [exp_res, 1-exp_res]\n",
    "\n",
    "# function to assign weights for the outcome of the match\n",
    "def actual_result(home_score, away_score):\n",
    "    if home_score > away_score:\n",
    "        wh = 1\n",
    "        wa = 0\n",
    "    elif home_score < away_score:\n",
    "        wh = 0\n",
    "        wa = 1\n",
    "    elif home_score == away_score:\n",
    "        wh = 0.5\n",
    "        wa = 0.5\n",
    "    return [wh, wa]\n",
    "\n",
    "# function to update elo ratings for the current match results\n",
    "def calculate_elo(elo_home, elo_away, home_score, away_score, k=40):\n",
    "    wh, wa = actual_result(home_score, away_score)\n",
    "    exp_home, exp_away = expected_result(elo_home, elo_away)\n",
    "\n",
    "    rating_home = elo_home + k*(wh-exp_home)  ##use another multiplier on the last term here to account for goal differential\n",
    "    rating_away = elo_away + k*(wa-exp_away)\n",
    "\n",
    "    return [rating_home, rating_away, exp_home, exp_away]"
   ]
  },
  {
   "cell_type": "markdown",
   "id": "eda93032",
   "metadata": {},
   "source": [
    "### Tune the k Value"
   ]
  },
  {
   "cell_type": "markdown",
   "id": "ea33372c",
   "metadata": {},
   "source": [
    "Ljung-Box (or more commonly Durbin-Watson) test checks for non-zero autocorrelation (nulll hypothesis is 1 autocorrelation -> large p indicates not rejection of null which mean no significant autocorrelation)\n",
    "k should be tuned to minimize autocorrelation (not log-loss)"
   ]
  },
  {
   "cell_type": "code",
   "execution_count": 20,
   "id": "ad375d81",
   "metadata": {},
   "outputs": [],
   "source": [
    "def objective(k):\n",
    "    \"\"\"Objective function to minimize using hyperopt\"\"\"\n",
    "    \n",
    "    current_elo={}\n",
    "    df = df_elo.copy()\n",
    "\n",
    "    for idx, row in df.iterrows():\n",
    "        \n",
    "        home = row['home_team']\n",
    "        away = row['away_team']\n",
    "    \n",
    "        # initially assign a default rating for each team\n",
    "        if home not in current_elo.keys():\n",
    "            current_elo[home] = elo_start\n",
    "        if away not in current_elo.keys():\n",
    "            current_elo[away] = elo_start\n",
    "    \n",
    "        # record elo before match\n",
    "        df.loc[idx,'Elo_h_before'] = np.round(current_elo[home], 1)\n",
    "        df.loc[idx,'Elo_a_before'] = np.round(current_elo[away], 1)\n",
    "    \n",
    "        # calculate new elo from match result and record predicted match results\n",
    "        [elo_h_new, \n",
    "         elo_a_new,  \n",
    "         df.loc[idx,'pred_home'], \n",
    "         df.loc[idx,'pred_away']] = calculate_elo(current_elo[home], \n",
    "                                                  current_elo[away], \n",
    "                                                  row['home_score'], \n",
    "                                                  row['away_score'], \n",
    "                                                  k)\n",
    "\n",
    "        # update current elo value\n",
    "        current_elo[home] = elo_h_new\n",
    "        current_elo[away] = elo_a_new\n",
    "        \n",
    "    # find the historical draw rates, bucketing into 5% increments of the home team's elo win probability\n",
    "    # this section was inspired by https://betfair-datascientists.github.io/modelling/soccerEloTutorialR/\n",
    "    draw_rates = pd.DataFrame(df.loc[df['draw_possible']==1, ['actual_draw', 'pred_home']])\n",
    "    draw_rates['prob_bucket'] = round(draw_rates['pred_home']*20)/20\n",
    "    draw_rates = draw_rates.groupby('prob_bucket')['actual_draw'].agg(['sum','count'])\n",
    "    draw_rates['draw_prob'] = draw_rates['sum']/draw_rates['count']\n",
    "\n",
    "    # adjust the winning odds to account for draws\n",
    "    df['pred_draw'] = df.apply(lambda x: draw_rates.loc[round(x['pred_home']*20)/20, 'draw_prob'] * x['draw_possible'], axis=1)\n",
    "    df['pred_home'] = (1-df['pred_draw'])*df['pred_home']\n",
    "    df['pred_away'] = (1-df['pred_draw'])*df['pred_away']\n",
    "    \n",
    "    # find the log loss, using the last couple of seasons as the validation set\n",
    "    preds = df.loc[df['season'].isin(val_seasons), ['pred_home','pred_away','pred_draw']].to_numpy()\n",
    "    actual = df.loc[df['season'].isin(val_seasons), ['actual_home','actual_away','actual_draw']].to_numpy()\n",
    "        \n",
    "    return log_loss(actual, preds)"
   ]
  },
  {
   "cell_type": "code",
   "execution_count": 21,
   "id": "64ef0542",
   "metadata": {
    "scrolled": false
   },
   "outputs": [
    {
     "name": "stdout",
     "output_type": "stream",
     "text": [
      "100%|██████████████████████████████████████████████| 100/100 [01:41<00:00,  1.01s/trial, best loss: 0.6851774857946327]\n",
      "{'k': 76.0}\n"
     ]
    }
   ],
   "source": [
    "# create the domain space\n",
    "space = hp.quniform('k', 1, 100, 1)\n",
    "\n",
    "# use hyperopt to optimized hyperparameter: k\n",
    "best=fmin(objective, space=space, algo=tpe.suggest, max_evals=100)\n",
    "\n",
    "print(best)"
   ]
  },
  {
   "cell_type": "code",
   "execution_count": 17,
   "id": "4b83e77a",
   "metadata": {
    "scrolled": true
   },
   "outputs": [],
   "source": [
    "current_elo={}\n",
    "\n",
    "for idx, row in df_elo.iterrows():\n",
    "    \n",
    "    home = row['home_team']\n",
    "    away = row['away_team']\n",
    "    \n",
    "    # initially assign a default rating for each team\n",
    "    if home not in current_elo.keys():\n",
    "        current_elo[home] = elo_start\n",
    "    \n",
    "    if away not in current_elo.keys():\n",
    "        current_elo[away] = elo_start\n",
    "    \n",
    "\n",
    "    # record elo before match\n",
    "    df_elo.loc[idx,'Elo_h_before'] = np.round(current_elo[home], 1)\n",
    "    df_elo.loc[idx,'Elo_a_before'] = np.round(current_elo[away], 1)\n",
    "    \n",
    "    # calculate new elo from match result and record predicted match results, using optimized k value\n",
    "    [elo_h_new, \n",
    "     elo_a_new,  \n",
    "     df_elo.loc[idx,'pred_home'], \n",
    "     df_elo.loc[idx,'pred_away']] = calculate_elo(current_elo[home],\n",
    "                                                  current_elo[away], \n",
    "                                                  row['home_score'], \n",
    "                                                  row['away_score'], \n",
    "                                                  best['k'])\n",
    "\n",
    "    # update current elo value\n",
    "    current_elo[home] = elo_h_new\n",
    "    current_elo[away] = elo_a_new\n",
    "    \n",
    "    # record post-match elo\n",
    "    df_elo.loc[idx,'Elo_h_after'] = np.round(elo_h_new, 1)\n",
    "    df_elo.loc[idx,'Elo_a_after'] = np.round(elo_a_new, 1)"
   ]
  },
  {
   "cell_type": "markdown",
   "id": "0b870293",
   "metadata": {},
   "source": [
    "### Account for the Possibility of Draws in Elo Calculations "
   ]
  },
  {
   "cell_type": "code",
   "execution_count": 23,
   "id": "6b1dc6b6",
   "metadata": {
    "scrolled": true
   },
   "outputs": [],
   "source": [
    "# do you need a dynamic k value, depending on how many games the team has historically already played?\n",
    "\n",
    "# include predicted and actual game win probabilities in dataset\n",
    "outcomes = [df_elo['home_score'] > df_elo['away_score'],\n",
    "            df_elo['home_score'] < df_elo['away_score'],\n",
    "            df_elo['home_score'] == df_elo['away_score']]\n",
    "df_elo['actual_home'] = np.select(outcomes, [1,0,0])\n",
    "df_elo['actual_away'] = np.select(outcomes, [0,1,0])\n",
    "df_elo['actual_draw'] = np.select(outcomes, [0,0,1])\n",
    "\n",
    "df_elo[['pred_home', 'pred_away']] = df_elo.apply(lambda x: expected_result(x['Elo_h_before'], x['Elo_a_before']), axis=1, result_type='expand')\n",
    "\n",
    "# find the historical draw rates, bucketing into 5% increments of the home team's elo win probability\n",
    "draw_rates = pd.DataFrame(df_elo.loc[df_elo['draw_possible']==1, ['actual_draw', 'pred_home']])\n",
    "draw_rates['prob_bucket'] = round(draw_rates['pred_home']*20)/20\n",
    "draw_rates = draw_rates.groupby('prob_bucket')['actual_draw'].agg(['sum','count'])\n",
    "draw_rates['draw_prob'] = draw_rates['sum']/draw_rates['count']\n",
    "\n",
    "# adjust the winning odds to account for draws\n",
    "df_elo['pred_draw'] = df_elo.apply(lambda x: draw_rates.loc[round(x['pred_home']*20)/20, 'draw_prob'] * x['draw_possible'], axis=1)\n",
    "df_elo['pred_home'] = (1-df_elo['pred_draw'])*df_elo['pred_home']\n",
    "df_elo['pred_away'] = (1-df_elo['pred_draw'])*df_elo['pred_away']"
   ]
  },
  {
   "cell_type": "code",
   "execution_count": 27,
   "id": "c89c9733",
   "metadata": {},
   "outputs": [],
   "source": [
    "# save data by exporting to a cvs file\n",
    "df_elo.to_csv('champions_league_eloData.csv', index=False)"
   ]
  },
  {
   "cell_type": "markdown",
   "id": "c365ea28",
   "metadata": {},
   "source": [
    "# Calculate the Expected Win Odds for Scheduled Matches with Elo"
   ]
  },
  {
   "cell_type": "code",
   "execution_count": 28,
   "id": "d913e67a",
   "metadata": {
    "scrolled": true
   },
   "outputs": [],
   "source": [
    "# convert dict of current elo ratings into a dataframe\n",
    "current_elo_df = pd.DataFrame(current_elo.items(), columns=['team', 'elo_rating']).set_index('team')\n",
    "#current_elo_df.sort_values(by='elo_rating', ascending=False)"
   ]
  },
  {
   "cell_type": "code",
   "execution_count": 29,
   "id": "46f389cc",
   "metadata": {
    "scrolled": false
   },
   "outputs": [],
   "source": [
    "# read in the scheduled matches\n",
    "df_scheduled = pd.read_csv(\"champions_league_scheduledGames.csv\")"
   ]
  },
  {
   "cell_type": "code",
   "execution_count": 31,
   "id": "8ae8b2c5",
   "metadata": {
    "scrolled": false
   },
   "outputs": [],
   "source": [
    "# calculate the Elo odds of each team winning scheduled matches\n",
    "df_scheduled['home_elo'] = df_scheduled.apply(lambda x: current_elo_df.loc[x['home_team']], axis=1)\n",
    "df_scheduled['away_elo'] = df_scheduled.apply(lambda x: current_elo_df.loc[x['away_team']], axis=1)\n",
    "df_scheduled[['home_win_odds', 'away_win_odds']] = df_scheduled.apply(lambda x: expected_result(x['home_elo'], x['away_elo']), axis=1, result_type='expand')\n",
    "\n",
    "# adjust the odds to account for the (historical) probability of a draw\n",
    "df_scheduled['draw_possible'] = np.where(df_scheduled['event_round'].isin(no_draws_round), 0, 1)\n",
    "df_scheduled['draw_odds'] = df_scheduled.apply(lambda x: draw_rates.loc[round(x['home_win_odds']*20)/20 * x['draw_possible'], 'draw_prob'], axis=1)\n",
    "df_scheduled['home_win_odds'] = (1-df_scheduled['draw_odds'])*df_scheduled['home_win_odds']\n",
    "df_scheduled['away_win_odds'] = (1-df_scheduled['draw_odds'])*df_scheduled['away_win_odds']"
   ]
  },
  {
   "cell_type": "code",
   "execution_count": 32,
   "id": "13c9c7a0",
   "metadata": {},
   "outputs": [],
   "source": [
    "# save data by exporting to a cvs file\n",
    "df_scheduled.to_csv('champions_league_scheduledOdds.csv', index=False)"
   ]
  },
  {
   "cell_type": "markdown",
   "id": "cc01444e",
   "metadata": {},
   "source": [
    "# Create Time Series of Elo Ratings"
   ]
  },
  {
   "cell_type": "code",
   "execution_count": 33,
   "id": "c1d57b00",
   "metadata": {},
   "outputs": [],
   "source": [
    "# reorganize data into a time series of elo rating for all teams\n",
    "home = df_elo[['date', \n",
    "               'home_team', \n",
    "               'Elo_h_after', \n",
    "               'away_team', \n",
    "               'away_score', \n",
    "               'home_score']].rename(columns={'home_team':'team','Elo_h_after':'elo', 'away_team':'opponent'})\n",
    "home['result'] = np.select([home['home_score']>home['away_score'], \n",
    "                            home['home_score']==home['away_score'],\n",
    "                            home['home_score']<home['away_score']],\n",
    "                           ['W', 'D', 'L'])\n",
    "home['score'] = home['home_score'].astype('str') + '-' + home['away_score'].astype('str') + ' ' + home['result']\n",
    "home = home.drop(['away_score', 'home_score', 'result'], axis=1)\n",
    "\n",
    "away = df_elo[['date', \n",
    "               'away_team', \n",
    "               'Elo_a_after',\n",
    "               'home_team', \n",
    "               'away_score', \n",
    "               'home_score']].rename(columns={'away_team':'team', 'Elo_a_after':'elo', 'home_team':'opponent'})\n",
    "away['result'] = np.select([away['home_score']<away['away_score'], \n",
    "                            away['home_score']==away['away_score'],\n",
    "                            away['home_score']>away['away_score']],\n",
    "                           ['W', 'D', 'L'])\n",
    "away['score'] = away['away_score'].astype('str') + '-' + away['home_score'].astype('str') + ' ' + away['result']\n",
    "away = away.drop(['away_score', 'home_score', 'result'], axis=1)\n",
    "\n",
    "df_elo_ts = home.append(away)"
   ]
  },
  {
   "cell_type": "code",
   "execution_count": 34,
   "id": "dec565e0",
   "metadata": {},
   "outputs": [],
   "source": [
    "# save data by exporting to a cvs file\n",
    "df_elo_ts.to_csv('champions_league_elo_timeseriesData.csv', index=False)"
   ]
  },
  {
   "cell_type": "markdown",
   "id": "7b7a4bed",
   "metadata": {},
   "source": [
    "# Tablulate Appearances Data"
   ]
  },
  {
   "cell_type": "code",
   "execution_count": 35,
   "id": "27cd6cdb",
   "metadata": {},
   "outputs": [],
   "source": [
    "# identify dates of first and most recent matches, and the number of appearances in the data set \n",
    "df_appear = df_elo_ts.groupby('team').agg({'date': ['min', 'max', 'count']}).sort_values(by=('date', 'count'), ascending=False)\n",
    "df_appear.columns = df_appear.columns.to_flat_index()   #flatten multi-index to rename columns\n",
    "df_appear.rename(columns={('date', 'min'):'first_app', \n",
    "                          ('date', 'max'):'last_app', \n",
    "                          ('date', 'count'):'num_app'}, inplace=True)\n",
    "#df_appear.head(10)"
   ]
  },
  {
   "cell_type": "code",
   "execution_count": 36,
   "id": "fe469fda",
   "metadata": {},
   "outputs": [],
   "source": [
    "# identify team participating in this year's season\n",
    "df_appear['active'] = (df_appear['last_app'] > '2023-01-01')"
   ]
  },
  {
   "cell_type": "code",
   "execution_count": 37,
   "id": "9c44d3cd",
   "metadata": {},
   "outputs": [],
   "source": [
    "# save data by exporting to a cvs file\n",
    "df_appear.to_csv('champions_league_appearanceData.csv', index=True)"
   ]
  },
  {
   "cell_type": "markdown",
   "id": "1da237f8",
   "metadata": {},
   "source": [
    "# Visualize Data"
   ]
  },
  {
   "cell_type": "markdown",
   "id": "8ac0d37b",
   "metadata": {},
   "source": [
    "### Note: much more visualization for this data can be found on the Tableau dashboard: "
   ]
  },
  {
   "cell_type": "code",
   "execution_count": null,
   "id": "ffde37a7",
   "metadata": {},
   "outputs": [],
   "source": [
    "# plot the team Elo ratings over time\n",
    "plt.style.use('seaborn')\n",
    "fig, ax = plt.subplots(figsize=(14,8))\n",
    "\n",
    "num_teams = 6  #number of team to show in the plot\n",
    "plot_teams = df_appear.head(num_teams).index\n",
    "df_plot = df_elo_ts[df_elo_ts['team'].isin(plot_teams)]\n",
    "\n",
    "for key, grp in df_plot.groupby('team'):\n",
    "    ax = grp.plot(ax=ax, kind='line', x='date', y='elo', label=key)\n",
    "\n",
    "ax.legend(loc='best', fontsize=12)\n",
    "ax.set_xlabel('date', fontsize=14)\n",
    "ax.set_ylabel('Elo rating', fontsize=14)\n",
    "plt.suptitle('Water Polo Champions League: Elo Ratings', size=20)\n",
    "plt.title(f'Top {num_teams} Teams by Number of Games Played', size=16)\n",
    "#plt.show()"
   ]
  },
  {
   "cell_type": "code",
   "execution_count": null,
   "id": "6074cff9",
   "metadata": {},
   "outputs": [],
   "source": [
    "# visualize the relationship between first appearance and number of appearances\n",
    "ax = sns.scatterplot(data=df_appear, x='first_app', y='num_app')\n",
    "ax.set(xlabel='first appearance', ylabel='matches played')"
   ]
  },
  {
   "cell_type": "code",
   "execution_count": 38,
   "id": "135207d3",
   "metadata": {},
   "outputs": [
    {
     "data": {
      "text/plain": [
       "<AxesSubplot:xlabel='prob_bucket', ylabel='draw_prob'>"
      ]
     },
     "execution_count": 38,
     "metadata": {},
     "output_type": "execute_result"
    },
    {
     "data": {
      "image/png": "[encoded data removed]",
      "text/plain": [
       "<Figure size 432x288 with 1 Axes>"
      ]
     },
     "metadata": {
      "needs_background": "light"
     },
     "output_type": "display_data"
    }
   ],
   "source": [
    "# visualize the historical draw rates based on the home team's Elo expected win odds\n",
    "sns.barplot(data=draw_rates.reset_index(), x='prob_bucket', y='draw_prob')"
   ]
  }
 ],
 "metadata": {
  "kernelspec": {
   "display_name": "Python 3",
   "language": "python",
   "name": "python3"
  },
  "language_info": {
   "codemirror_mode": {
    "name": "ipython",
    "version": 3
   },
   "file_extension": ".py",
   "mimetype": "text/x-python",
   "name": "python",
   "nbconvert_exporter": "python",
   "pygments_lexer": "ipython3",
   "version": "3.8.8"
  }
 },
 "nbformat": 4,
 "nbformat_minor": 5
}
